{
 "cells": [
  {
   "cell_type": "code",
   "execution_count": 1,
   "id": "639f799a",
   "metadata": {},
   "outputs": [],
   "source": [
    "import numpy as np\n",
    "import pandas as pd\n",
    "import matplotlib.pyplot as plt\n",
    "from sklearn.linear_model import LinearRegression as LR\n",
    "from sklearn.metrics import mean_squared_error,mean_absolute_error,r2_score"
   ]
  },
  {
   "cell_type": "markdown",
   "id": "ffb5ef1f",
   "metadata": {},
   "source": [
    "***LINEAR REGRESSION\n",
    "\n",
    "Single Class\n",
    "\n",
    "Engine_Size vs Price\n",
    "\n",
    "plot the graph\n",
    "\n",
    "error find"
   ]
  },
  {
   "cell_type": "code",
   "execution_count": 2,
   "id": "3cd4e727",
   "metadata": {},
   "outputs": [
    {
     "data": {
      "text/plain": [
       "array([4.88202617, 4.2000786 , 4.48936899, 5.1204466 , 4.933779  ,\n",
       "       3.51136106, 4.47504421, 3.9243214 , 3.94839057, 4.20529925,\n",
       "       4.07202179, 4.72713675, 4.38051886, 4.06083751, 4.22193162,\n",
       "       4.16683716, 4.74703954, 3.89742087, 4.15653385, 3.57295213,\n",
       "       2.72350509, 4.3268093 , 4.4322181 , 3.62891749, 5.13487731,\n",
       "       3.27281716, 4.02287926, 3.90640807, 4.76638961, 4.73467938,\n",
       "       4.07747371, 4.18908126, 3.55610713, 3.00960177, 3.82604393,\n",
       "       4.07817448, 4.61514534, 4.60118992, 3.80633659, 3.84884862,\n",
       "       3.47572352, 3.28999103, 3.1468649 , 4.9753877 , 3.74517391,\n",
       "       3.78096285, 3.37360232, 4.38874518, 3.19305108, 3.89362986,\n",
       "       3.55226672, 4.19345125, 3.74459743, 3.40968391, 3.98590889,\n",
       "       4.21416594, 4.03325861, 4.15123595, 3.68283895, 3.81862942,\n",
       "       3.66376978, 3.82022342, 3.59342686, 3.1368587 , 4.08871307,\n",
       "       3.79910953, 3.18490083, 4.23139113, 3.54635082, 4.0259727 ,\n",
       "       4.36454528, 4.06449146, 4.56970034, 3.38258709, 4.20117082,\n",
       "       3.65759495, 3.56460143, 3.71057517, 3.84422373, 4.02808267,\n",
       "       3.41742508, 4.45041324, 4.23283122, 3.23187816, 4.7441261 ,\n",
       "       4.94794459, 4.58938979, 3.91003758, 3.46462369, 4.52722586,\n",
       "       3.79841153, 4.61122254, 4.10413749, 4.48831952, 4.1781832 ,\n",
       "       4.35328658, 4.00525001, 4.89293525, 4.06345605, 4.20099468])"
      ]
     },
     "execution_count": 2,
     "metadata": {},
     "output_type": "execute_result"
    }
   ],
   "source": [
    "np.random.seed(0)\n",
    "E_S = np.random.normal(4.0,0.5,100)\n",
    "price=1000+E_S+1000+np.random.normal(0,2000,100)\n",
    "E_S"
   ]
  },
  {
   "cell_type": "code",
   "execution_count": 3,
   "id": "7c0733cb",
   "metadata": {},
   "outputs": [
    {
     "data": {
      "text/html": [
       "<div>\n",
       "<style scoped>\n",
       "    .dataframe tbody tr th:only-of-type {\n",
       "        vertical-align: middle;\n",
       "    }\n",
       "\n",
       "    .dataframe tbody tr th {\n",
       "        vertical-align: top;\n",
       "    }\n",
       "\n",
       "    .dataframe thead th {\n",
       "        text-align: right;\n",
       "    }\n",
       "</style>\n",
       "<table border=\"1\" class=\"dataframe\">\n",
       "  <thead>\n",
       "    <tr style=\"text-align: right;\">\n",
       "      <th></th>\n",
       "      <th>Engine Size</th>\n",
       "      <th>price</th>\n",
       "    </tr>\n",
       "  </thead>\n",
       "  <tbody>\n",
       "    <tr>\n",
       "      <th>0</th>\n",
       "      <td>4.882026</td>\n",
       "      <td>5771.183420</td>\n",
       "    </tr>\n",
       "    <tr>\n",
       "      <th>1</th>\n",
       "      <td>4.200079</td>\n",
       "      <td>-691.318044</td>\n",
       "    </tr>\n",
       "    <tr>\n",
       "      <th>2</th>\n",
       "      <td>4.489369</td>\n",
       "      <td>-536.480628</td>\n",
       "    </tr>\n",
       "    <tr>\n",
       "      <th>3</th>\n",
       "      <td>5.120447</td>\n",
       "      <td>3943.913863</td>\n",
       "    </tr>\n",
       "    <tr>\n",
       "      <th>4</th>\n",
       "      <td>4.933779</td>\n",
       "      <td>-341.313031</td>\n",
       "    </tr>\n",
       "    <tr>\n",
       "      <th>...</th>\n",
       "      <td>...</td>\n",
       "      <td>...</td>\n",
       "    </tr>\n",
       "    <tr>\n",
       "      <th>95</th>\n",
       "      <td>4.353287</td>\n",
       "      <td>1661.260624</td>\n",
       "    </tr>\n",
       "    <tr>\n",
       "      <th>96</th>\n",
       "      <td>4.005250</td>\n",
       "      <td>3547.586352</td>\n",
       "    </tr>\n",
       "    <tr>\n",
       "      <th>97</th>\n",
       "      <td>4.892935</td>\n",
       "      <td>3651.901243</td>\n",
       "    </tr>\n",
       "    <tr>\n",
       "      <th>98</th>\n",
       "      <td>4.063456</td>\n",
       "      <td>6330.535355</td>\n",
       "    </tr>\n",
       "    <tr>\n",
       "      <th>99</th>\n",
       "      <td>4.200995</td>\n",
       "      <td>4677.256894</td>\n",
       "    </tr>\n",
       "  </tbody>\n",
       "</table>\n",
       "<p>100 rows × 2 columns</p>\n",
       "</div>"
      ],
      "text/plain": [
       "    Engine Size        price\n",
       "0      4.882026  5771.183420\n",
       "1      4.200079  -691.318044\n",
       "2      4.489369  -536.480628\n",
       "3      5.120447  3943.913863\n",
       "4      4.933779  -341.313031\n",
       "..          ...          ...\n",
       "95     4.353287  1661.260624\n",
       "96     4.005250  3547.586352\n",
       "97     4.892935  3651.901243\n",
       "98     4.063456  6330.535355\n",
       "99     4.200995  4677.256894\n",
       "\n",
       "[100 rows x 2 columns]"
      ]
     },
     "execution_count": 3,
     "metadata": {},
     "output_type": "execute_result"
    }
   ],
   "source": [
    "df= pd.DataFrame({\"Engine Size\":E_S,\"price\":price})\n",
    "df"
   ]
  },
  {
   "cell_type": "code",
   "execution_count": 4,
   "id": "a0d4339f",
   "metadata": {},
   "outputs": [
    {
     "data": {
      "text/html": [
       "<div>\n",
       "<style scoped>\n",
       "    .dataframe tbody tr th:only-of-type {\n",
       "        vertical-align: middle;\n",
       "    }\n",
       "\n",
       "    .dataframe tbody tr th {\n",
       "        vertical-align: top;\n",
       "    }\n",
       "\n",
       "    .dataframe thead th {\n",
       "        text-align: right;\n",
       "    }\n",
       "</style>\n",
       "<table border=\"1\" class=\"dataframe\">\n",
       "  <thead>\n",
       "    <tr style=\"text-align: right;\">\n",
       "      <th></th>\n",
       "      <th>Engine Size</th>\n",
       "    </tr>\n",
       "  </thead>\n",
       "  <tbody>\n",
       "    <tr>\n",
       "      <th>0</th>\n",
       "      <td>4.882026</td>\n",
       "    </tr>\n",
       "    <tr>\n",
       "      <th>1</th>\n",
       "      <td>4.200079</td>\n",
       "    </tr>\n",
       "    <tr>\n",
       "      <th>2</th>\n",
       "      <td>4.489369</td>\n",
       "    </tr>\n",
       "    <tr>\n",
       "      <th>3</th>\n",
       "      <td>5.120447</td>\n",
       "    </tr>\n",
       "    <tr>\n",
       "      <th>4</th>\n",
       "      <td>4.933779</td>\n",
       "    </tr>\n",
       "    <tr>\n",
       "      <th>...</th>\n",
       "      <td>...</td>\n",
       "    </tr>\n",
       "    <tr>\n",
       "      <th>95</th>\n",
       "      <td>4.353287</td>\n",
       "    </tr>\n",
       "    <tr>\n",
       "      <th>96</th>\n",
       "      <td>4.005250</td>\n",
       "    </tr>\n",
       "    <tr>\n",
       "      <th>97</th>\n",
       "      <td>4.892935</td>\n",
       "    </tr>\n",
       "    <tr>\n",
       "      <th>98</th>\n",
       "      <td>4.063456</td>\n",
       "    </tr>\n",
       "    <tr>\n",
       "      <th>99</th>\n",
       "      <td>4.200995</td>\n",
       "    </tr>\n",
       "  </tbody>\n",
       "</table>\n",
       "<p>100 rows × 1 columns</p>\n",
       "</div>"
      ],
      "text/plain": [
       "    Engine Size\n",
       "0      4.882026\n",
       "1      4.200079\n",
       "2      4.489369\n",
       "3      5.120447\n",
       "4      4.933779\n",
       "..          ...\n",
       "95     4.353287\n",
       "96     4.005250\n",
       "97     4.892935\n",
       "98     4.063456\n",
       "99     4.200995\n",
       "\n",
       "[100 rows x 1 columns]"
      ]
     },
     "execution_count": 4,
     "metadata": {},
     "output_type": "execute_result"
    }
   ],
   "source": [
    "X= df[[\"Engine Size\"]]\n",
    "X"
   ]
  },
  {
   "cell_type": "code",
   "execution_count": 5,
   "id": "dd2fb4b3",
   "metadata": {},
   "outputs": [
    {
     "data": {
      "text/plain": [
       "0     5771.183420\n",
       "1     -691.318044\n",
       "2     -536.480628\n",
       "3     3943.913863\n",
       "4     -341.313031\n",
       "         ...     \n",
       "95    1661.260624\n",
       "96    3547.586352\n",
       "97    3651.901243\n",
       "98    6330.535355\n",
       "99    4677.256894\n",
       "Name: price, Length: 100, dtype: float64"
      ]
     },
     "execution_count": 5,
     "metadata": {},
     "output_type": "execute_result"
    }
   ],
   "source": [
    "Y=df[\"price\"]\n",
    "Y"
   ]
  },
  {
   "cell_type": "code",
   "execution_count": 6,
   "id": "9fd85b6f",
   "metadata": {},
   "outputs": [
    {
     "data": {
      "text/plain": [
       "LinearRegression()"
      ]
     },
     "execution_count": 6,
     "metadata": {},
     "output_type": "execute_result"
    }
   ],
   "source": [
    "model=LR()\n",
    "model.fit(X,Y)"
   ]
  },
  {
   "cell_type": "code",
   "execution_count": 7,
   "id": "07b34947",
   "metadata": {},
   "outputs": [
    {
     "data": {
      "text/plain": [
       "array([2559.85627783, 2246.30105865, 2379.31496636, 2669.48049609,\n",
       "       2583.65190115, 1929.63304724, 2372.72852076, 2119.50962211,\n",
       "       2130.57647945, 2248.70147933, 2187.42133584, 2488.63909325,\n",
       "       2329.26635886, 2182.2788752 , 2256.34893673, 2231.0168526 ,\n",
       "       2497.79026821, 2107.14092801, 2226.2794539 , 1957.95223544,\n",
       "       1567.38180973, 2304.57103747, 2353.03734402, 1983.68475705,\n",
       "       2676.11564723, 1819.95205791, 2164.82590988, 2111.27318941,\n",
       "       2506.68730943, 2492.10714794, 2189.92809784, 2241.24454861,\n",
       "       1950.20700808, 1698.92726771, 2074.32225695, 2190.25030828,\n",
       "       2437.14614322, 2430.7295304 , 2065.26094824, 2084.80771483,\n",
       "       1913.24712846, 1827.84849513, 1762.03999887, 2602.78332187,\n",
       "       2037.13873021, 2053.59426061, 1866.29244172, 2333.04876711,\n",
       "       1783.27611114, 2105.39784618, 1948.4412131 , 2243.25384223,\n",
       "       2036.87366928, 1882.88252979, 2147.8271641 , 2252.77832522,\n",
       "       2169.59827114, 2223.84351178, 2008.47750804, 2070.91311248,\n",
       "       1999.70961992, 2071.64602471, 1967.36638737, 1757.43920811,\n",
       "       2195.09588435, 2061.93799161, 1779.5286774 , 2260.6983608 ,\n",
       "       1945.72111861, 2166.24825386, 2321.92180618, 2183.9589372 ,\n",
       "       2416.25081784, 1870.4235826 , 2246.80325291, 1996.87047564,\n",
       "       1954.11263363, 2021.23044566, 2082.68121903, 2167.21840632,\n",
       "       1886.44187202, 2361.40335725, 2261.36050612, 1801.12855954,\n",
       "       2496.4506869 , 2590.16515203, 2425.30390051, 2112.94201404,\n",
       "       1908.14349699, 2396.72131863, 2061.61705311, 2435.34246198,\n",
       "       2202.18793506, 2378.83242487, 2236.23368835, 2316.74512784,\n",
       "       2156.72009197, 2564.87220169, 2183.48286261, 2246.72226537])"
      ]
     },
     "execution_count": 7,
     "metadata": {},
     "output_type": "execute_result"
    }
   ],
   "source": [
    "y=model.predict(X)\n",
    "y"
   ]
  },
  {
   "cell_type": "code",
   "execution_count": 8,
   "id": "d93b7189",
   "metadata": {},
   "outputs": [],
   "source": [
    "MSE=mean_squared_error(Y,y)\n",
    "MAE=mean_absolute_error(Y,y)\n",
    "R2=r2_score(Y,y)"
   ]
  },
  {
   "cell_type": "code",
   "execution_count": 9,
   "id": "e8b9ae44",
   "metadata": {},
   "outputs": [
    {
     "name": "stdout",
     "output_type": "stream",
     "text": [
      "Mean Squared Error= 4228687.416762516 \n",
      "Mean Absolute Error = 1731.8782770093542 \n",
      "R2 Score = 0.012537208590951532\n"
     ]
    }
   ],
   "source": [
    "print(f\"Mean Squared Error= {MSE} \\nMean Absolute Error = {MAE} \\nR2 Score = {R2}\")"
   ]
  },
  {
   "cell_type": "code",
   "execution_count": 10,
   "id": "37e09918",
   "metadata": {},
   "outputs": [
    {
     "data": {
      "image/png": "[encoded data removed]",
      "text/plain": [
       "<Figure size 720x360 with 1 Axes>"
      ]
     },
     "metadata": {
      "needs_background": "light"
     },
     "output_type": "display_data"
    }
   ],
   "source": [
    "plt.figure(figsize=(10,5))\n",
    "plt.scatter(X,Y,color='blue', label=\"Actual Data\")\n",
    "plt.plot(X[\"Engine Size\"],y,color='red', label=\"Predicted Data\")\n",
    "\n",
    "plt.xlabel(\"Engine size\")\n",
    "plt.ylabel(\"price\")\n",
    "plt.title(\"Linear Regression\")\n",
    "plt.legend()\n",
    "\n",
    "plt.show()"
   ]
  },
  {
   "cell_type": "markdown",
   "id": "1cea6054",
   "metadata": {},
   "source": [
    "**multiple regression"
   ]
  },
  {
   "cell_type": "code",
   "execution_count": 11,
   "id": "96029ef5",
   "metadata": {},
   "outputs": [
    {
     "name": "stdout",
     "output_type": "stream",
     "text": [
      "[4.88202617 4.2000786  4.48936899 5.1204466  4.933779   3.51136106\n",
      " 4.47504421 3.9243214  3.94839057 4.20529925 4.07202179 4.72713675\n",
      " 4.38051886 4.06083751 4.22193162 4.16683716 4.74703954 3.89742087\n",
      " 4.15653385 3.57295213 2.72350509 4.3268093  4.4322181  3.62891749\n",
      " 5.13487731 3.27281716 4.02287926 3.90640807 4.76638961 4.73467938\n",
      " 4.07747371 4.18908126 3.55610713 3.00960177 3.82604393 4.07817448\n",
      " 4.61514534 4.60118992 3.80633659 3.84884862 3.47572352 3.28999103\n",
      " 3.1468649  4.9753877  3.74517391 3.78096285 3.37360232 4.38874518\n",
      " 3.19305108 3.89362986 3.55226672 4.19345125 3.74459743 3.40968391\n",
      " 3.98590889 4.21416594 4.03325861 4.15123595 3.68283895 3.81862942\n",
      " 3.66376978 3.82022342 3.59342686 3.1368587  4.08871307 3.79910953\n",
      " 3.18490083 4.23139113 3.54635082 4.0259727  4.36454528 4.06449146\n",
      " 4.56970034 3.38258709 4.20117082 3.65759495 3.56460143 3.71057517\n",
      " 3.84422373 4.02808267 3.41742508 4.45041324 4.23283122 3.23187816\n",
      " 4.7441261  4.94794459 4.58938979 3.91003758 3.46462369 4.52722586\n",
      " 3.79841153 4.61122254 4.10413749 4.48831952 4.1781832  4.35328658\n",
      " 4.00525001 4.89293525 4.06345605 4.20099468]\n",
      "[4.94157535 3.32612047 3.3647575  4.48469835 3.4134383  4.97181059\n",
      " 3.79319051 3.62627259 4.96147101 4.7402574  4.93377948 4.45302233\n",
      " 3.56938716 4.95503248 3.86599831 4.4012282  4.47362598 3.92249495\n",
      " 4.30703969 4.46110334 4.18821277 3.4502996  4.14911909 4.66319295\n",
      " 3.65271607 3.92518273 3.78242322 4.92463186 4.33614738 4.20373092\n",
      " 3.61504196 4.2696246  3.66283367 4.01591528 3.68207696 4.33821665\n",
      " 4.28829541 3.89585062 4.19800336 3.45346925 3.2543712  4.21969585\n",
      " 4.08333675 4.31751572 5.19157239 4.47223974 3.54358889 4.55850814\n",
      " 3.34204629 3.7692077  3.9658792  4.85667136 3.62762259 3.58678073\n",
      " 3.95077374 3.66826086 4.56331796 3.46003425 3.42626567 3.78108998\n",
      " 3.75098377 4.96476603 4.4747104  4.04377562 3.38728224 4.42218149\n",
      " 3.49989233 3.22761445 4.5940149  4.15847131 4.46042941 4.15936383\n",
      " 4.42841531 3.6744872  3.48287858 4.34079726 3.59829517 3.65522511\n",
      " 3.77223375 4.00873958 3.82300304 3.31252435 3.6781908  2.88829842\n",
      " 4.31261573 3.19897117 3.44780833 4.02608254 3.6302185  4.7715073\n",
      " 3.35357155 4.13352543 3.98035859 3.41595325 4.26163833 3.91422683\n",
      " 4.38589528 4.41175208 5.08161797 4.66826397]\n",
      "[ 1266.51835029  1525.44172345  4203.80856077  3315.64790804\n",
      "  3285.19683119 -1230.40072756  1955.82279541   527.86250298\n",
      "  2563.79758866  1807.90451997  3824.42983797  2639.16356714\n",
      "  3577.03644308  1071.22264404   115.32941978  1184.06745076\n",
      "  1970.70621181  2762.20089198  6522.77443523  1919.05864881\n",
      "    90.83350411  1312.3632579   1077.24026881  2966.59186504\n",
      " -1076.45915158  2129.79680556  2317.03595519  2468.26848048\n",
      "   810.13425168  1528.89121991  -844.04434425  1017.54931454\n",
      "   917.83315509  2835.10969429  -308.53881972  3566.4743779\n",
      "  4993.58423432 -2135.3688601   2856.32379815  3357.66491869\n",
      "   728.60167241  1208.74636237  1737.38570973  1409.39362889\n",
      "  1385.71923581 -1348.22664981  4308.03673189  4163.62592925\n",
      "   376.46453267  -928.95502575  3045.68201962   852.61751162\n",
      "  2287.65092407  1364.75284962  3387.06341103  3393.71245325\n",
      "   552.83850168  -762.57667484 -1162.19395572  3224.57738763\n",
      "  -374.05474579   990.18751482   810.96534996  1898.00226616\n",
      " -1868.47089862  2381.35630312  3050.96694849  2181.07556522\n",
      "  1381.77400742  2198.82630524  2802.45723656 -3541.1210214\n",
      "  5916.39431684  2783.56923247   699.38400605  1221.75084458\n",
      "  2991.04815612  1771.5026971  -2057.52471183  6133.01380539\n",
      "  1782.33611061  4044.79583668   620.13313565  5075.98598665\n",
      "  2577.43150388  3222.63561354   -85.91734251  4426.20061695\n",
      "  3383.10095276  4608.21968499   747.62329224  1042.55698561\n",
      "  6611.93753286  -115.54332592  1732.27878184  4278.13601179\n",
      "  2199.45518544  3170.80029475  1205.16539752  2744.31277038]\n"
     ]
    }
   ],
   "source": [
    "np.random.seed(0)\n",
    "E_s = np.random.normal(4.0,0.5,100)\n",
    "W_b = np.random.normal(4.0,0.5,100)\n",
    "\n",
    "amt=1000+E_S+1000+np.random.normal(0,2000,100)\n",
    "E_S\n",
    "print(E_s)\n",
    "print(W_b)\n",
    "print(amt)"
   ]
  },
  {
   "cell_type": "code",
   "execution_count": 12,
   "id": "129eed8c",
   "metadata": {},
   "outputs": [
    {
     "data": {
      "text/html": [
       "<div>\n",
       "<style scoped>\n",
       "    .dataframe tbody tr th:only-of-type {\n",
       "        vertical-align: middle;\n",
       "    }\n",
       "\n",
       "    .dataframe tbody tr th {\n",
       "        vertical-align: top;\n",
       "    }\n",
       "\n",
       "    .dataframe thead th {\n",
       "        text-align: right;\n",
       "    }\n",
       "</style>\n",
       "<table border=\"1\" class=\"dataframe\">\n",
       "  <thead>\n",
       "    <tr style=\"text-align: right;\">\n",
       "      <th></th>\n",
       "      <th>Engine Size</th>\n",
       "      <th>Wheel Base</th>\n",
       "      <th>Amount</th>\n",
       "    </tr>\n",
       "  </thead>\n",
       "  <tbody>\n",
       "    <tr>\n",
       "      <th>0</th>\n",
       "      <td>4.882026</td>\n",
       "      <td>4.941575</td>\n",
       "      <td>1266.518350</td>\n",
       "    </tr>\n",
       "    <tr>\n",
       "      <th>1</th>\n",
       "      <td>4.200079</td>\n",
       "      <td>3.326120</td>\n",
       "      <td>1525.441723</td>\n",
       "    </tr>\n",
       "    <tr>\n",
       "      <th>2</th>\n",
       "      <td>4.489369</td>\n",
       "      <td>3.364758</td>\n",
       "      <td>4203.808561</td>\n",
       "    </tr>\n",
       "    <tr>\n",
       "      <th>3</th>\n",
       "      <td>5.120447</td>\n",
       "      <td>4.484698</td>\n",
       "      <td>3315.647908</td>\n",
       "    </tr>\n",
       "    <tr>\n",
       "      <th>4</th>\n",
       "      <td>4.933779</td>\n",
       "      <td>3.413438</td>\n",
       "      <td>3285.196831</td>\n",
       "    </tr>\n",
       "    <tr>\n",
       "      <th>...</th>\n",
       "      <td>...</td>\n",
       "      <td>...</td>\n",
       "      <td>...</td>\n",
       "    </tr>\n",
       "    <tr>\n",
       "      <th>95</th>\n",
       "      <td>4.353287</td>\n",
       "      <td>3.914227</td>\n",
       "      <td>4278.136012</td>\n",
       "    </tr>\n",
       "    <tr>\n",
       "      <th>96</th>\n",
       "      <td>4.005250</td>\n",
       "      <td>4.385895</td>\n",
       "      <td>2199.455185</td>\n",
       "    </tr>\n",
       "    <tr>\n",
       "      <th>97</th>\n",
       "      <td>4.892935</td>\n",
       "      <td>4.411752</td>\n",
       "      <td>3170.800295</td>\n",
       "    </tr>\n",
       "    <tr>\n",
       "      <th>98</th>\n",
       "      <td>4.063456</td>\n",
       "      <td>5.081618</td>\n",
       "      <td>1205.165398</td>\n",
       "    </tr>\n",
       "    <tr>\n",
       "      <th>99</th>\n",
       "      <td>4.200995</td>\n",
       "      <td>4.668264</td>\n",
       "      <td>2744.312770</td>\n",
       "    </tr>\n",
       "  </tbody>\n",
       "</table>\n",
       "<p>100 rows × 3 columns</p>\n",
       "</div>"
      ],
      "text/plain": [
       "    Engine Size  Wheel Base       Amount\n",
       "0      4.882026    4.941575  1266.518350\n",
       "1      4.200079    3.326120  1525.441723\n",
       "2      4.489369    3.364758  4203.808561\n",
       "3      5.120447    4.484698  3315.647908\n",
       "4      4.933779    3.413438  3285.196831\n",
       "..          ...         ...          ...\n",
       "95     4.353287    3.914227  4278.136012\n",
       "96     4.005250    4.385895  2199.455185\n",
       "97     4.892935    4.411752  3170.800295\n",
       "98     4.063456    5.081618  1205.165398\n",
       "99     4.200995    4.668264  2744.312770\n",
       "\n",
       "[100 rows x 3 columns]"
      ]
     },
     "execution_count": 12,
     "metadata": {},
     "output_type": "execute_result"
    }
   ],
   "source": [
    "df2= pd.DataFrame({\"Engine Size\":E_S, \"Wheel Base\":W_b,\"Amount\":amt})\n",
    "df2"
   ]
  },
  {
   "cell_type": "code",
   "execution_count": 13,
   "id": "66fffa2c",
   "metadata": {},
   "outputs": [],
   "source": [
    "X1=df2[[\"Engine Size\",\"Wheel Base\"]]\n",
    "Y1=df2[\"Amount\"]"
   ]
  },
  {
   "cell_type": "code",
   "execution_count": 14,
   "id": "b287c0e0",
   "metadata": {},
   "outputs": [
    {
     "data": {
      "text/plain": [
       "LinearRegression()"
      ]
     },
     "execution_count": 14,
     "metadata": {},
     "output_type": "execute_result"
    }
   ],
   "source": [
    "MLRModel=LR()\n",
    "MLRModel.fit(X1,Y1)"
   ]
  },
  {
   "cell_type": "code",
   "execution_count": 15,
   "id": "d41fbd88",
   "metadata": {},
   "outputs": [],
   "source": [
    "y1=MLRModel.predict(X1)\n"
   ]
  },
  {
   "cell_type": "code",
   "execution_count": 16,
   "id": "33d011ed",
   "metadata": {},
   "outputs": [
    {
     "name": "stdout",
     "output_type": "stream",
     "text": [
      "Mean Squared Error= 3595939.186252172 \n",
      "Mean Absolute Error = 1486.187485929768 \n",
      "R2 Score = 0.008121372956192863\n"
     ]
    }
   ],
   "source": [
    "MSE1=mean_squared_error(Y1,y1)\n",
    "MAE1=mean_absolute_error(Y1,y1)\n",
    "R21=r2_score(Y1,y1)\n",
    "print(f\"Mean Squared Error= {MSE1} \\nMean Absolute Error = {MAE1} \\nR2 Score = {R21}\")"
   ]
  },
  {
   "cell_type": "code",
   "execution_count": 17,
   "id": "775f143f",
   "metadata": {},
   "outputs": [
    {
     "ename": "SyntaxError",
     "evalue": "unexpected EOF while parsing (271720497.py, line 1)",
     "output_type": "error",
     "traceback": [
      "\u001b[1;36m  Input \u001b[1;32mIn [17]\u001b[1;36m\u001b[0m\n\u001b[1;33m    x_surf,y_surf=np.meshgrid(np.linspace(df2['Engine Size'].min(),df2['Engine Size'].max(),100,np.linspace(df2['Wheel Base'].min(),df2['Wheel Base'].max(),100))\u001b[0m\n\u001b[1;37m                                                                                                                                                                 ^\u001b[0m\n\u001b[1;31mSyntaxError\u001b[0m\u001b[1;31m:\u001b[0m unexpected EOF while parsing\n"
     ]
    }
   ],
   "source": [
    "x_surf,y_surf=np.meshgrid(np.linspace(df2['Engine Size'].min(),df2['Engine Size'].max(),100,np.linspace(df2['Wheel Base'].min(),df2['Wheel Base'].max(),100))\n"
   ]
  },
  {
   "cell_type": "code",
   "execution_count": null,
   "id": "99094878",
   "metadata": {},
   "outputs": [],
   "source": [
    "x_surf"
   ]
  },
  {
   "cell_type": "code",
   "execution_count": null,
   "id": "c3333957",
   "metadata": {},
   "outputs": [],
   "source": [
    "y_surf"
   ]
  },
  {
   "cell_type": "code",
   "execution_count": null,
   "id": "465a1675",
   "metadata": {},
   "outputs": [],
   "source": [
    "xy_sirf=np.c_[x_surf.ravel(),y_surf.ravel()]\n",
    "xy_surf"
   ]
  },
  {
   "cell_type": "code",
   "execution_count": null,
   "id": "346ad32f",
   "metadata": {},
   "outputs": [],
   "source": [
    "z_surf=MLRMode.predict(xy_surf).reshape(x_surf.shape)\n",
    "z_surf"
   ]
  },
  {
   "cell_type": "code",
   "execution_count": 18,
   "id": "9e2bf1c1",
   "metadata": {},
   "outputs": [
    {
     "ename": "NameError",
     "evalue": "name 'x_surf' is not defined",
     "output_type": "error",
     "traceback": [
      "\u001b[1;31m---------------------------------------------------------------------------\u001b[0m",
      "\u001b[1;31mNameError\u001b[0m                                 Traceback (most recent call last)",
      "Input \u001b[1;32mIn [18]\u001b[0m, in \u001b[0;36m<cell line: 4>\u001b[1;34m()\u001b[0m\n\u001b[0;32m      2\u001b[0m ax \u001b[38;5;241m=\u001b[39m fig\u001b[38;5;241m.\u001b[39madd_subplot(\u001b[38;5;241m111\u001b[39m,projection \u001b[38;5;241m=\u001b[39m \u001b[38;5;124m'\u001b[39m\u001b[38;5;124m3d\u001b[39m\u001b[38;5;124m'\u001b[39m)\n\u001b[0;32m      3\u001b[0m ax\u001b[38;5;241m.\u001b[39mscatter(df2[\u001b[38;5;124m\"\u001b[39m\u001b[38;5;124mEngine Size\u001b[39m\u001b[38;5;124m\"\u001b[39m],df2[\u001b[38;5;124m\"\u001b[39m\u001b[38;5;124mWheel Base\u001b[39m\u001b[38;5;124m\"\u001b[39m],df2[\u001b[38;5;124m\"\u001b[39m\u001b[38;5;124mAmount\u001b[39m\u001b[38;5;124m\"\u001b[39m],color \u001b[38;5;241m=\u001b[39m \u001b[38;5;124m'\u001b[39m\u001b[38;5;124mblue\u001b[39m\u001b[38;5;124m'\u001b[39m,label\u001b[38;5;241m=\u001b[39m\u001b[38;5;124m\"\u001b[39m\u001b[38;5;124mActual data\u001b[39m\u001b[38;5;124m\"\u001b[39m)\n\u001b[1;32m----> 4\u001b[0m ax\u001b[38;5;241m.\u001b[39mplot_surface(\u001b[43mx_surf\u001b[49m,y_surf,z_surf,color\u001b[38;5;241m=\u001b[39m\u001b[38;5;124m\"\u001b[39m\u001b[38;5;124mred\u001b[39m\u001b[38;5;124m\"\u001b[39m,label \u001b[38;5;241m=\u001b[39m \u001b[38;5;124m\"\u001b[39m\u001b[38;5;124mPredicted Value\u001b[39m\u001b[38;5;124m\"\u001b[39m,alpha\u001b[38;5;241m=\u001b[39m\u001b[38;5;241m0.5\u001b[39m)\n\u001b[0;32m      5\u001b[0m ax\u001b[38;5;241m.\u001b[39mset_xlabel(\u001b[38;5;124m\"\u001b[39m\u001b[38;5;124mEngine Size\u001b[39m\u001b[38;5;124m\"\u001b[39m)\n\u001b[0;32m      6\u001b[0m ax\u001b[38;5;241m.\u001b[39mset_ylabel(\u001b[38;5;124m\"\u001b[39m\u001b[38;5;124mWheel Base\u001b[39m\u001b[38;5;124m\"\u001b[39m)\n",
      "\u001b[1;31mNameError\u001b[0m: name 'x_surf' is not defined"
     ]
    },
    {
     "data": {
      "image/png": "[encoded data removed]",
      "text/plain": [
       "<Figure size 432x288 with 1 Axes>"
      ]
     },
     "metadata": {
      "needs_background": "light"
     },
     "output_type": "display_data"
    }
   ],
   "source": [
    "fig = plt.figure()\n",
    "ax = fig.add_subplot(111,projection = '3d')\n",
    "ax.scatter(df2[\"Engine Size\"],df2[\"Wheel Base\"],df2[\"Amount\"],color = 'blue',label=\"Actual data\")\n",
    "ax.plot_surface(x_surf,y_surf,z_surf,color=\"red\",label = \"Predicted Value\",alpha=0.5)\n",
    "ax.set_xlabel(\"Engine Size\")\n",
    "ax.set_ylabel(\"Wheel Base\")\n",
    "ax.set_zlabel(\"price\")\n",
    "ax.set_title(\"Engine Size and Wheel Base VS Price\")\n",
    "plt.legend()\n",
    "plt.show"
   ]
  },
  {
   "cell_type": "code",
   "execution_count": null,
   "id": "4f7159ac",
   "metadata": {},
   "outputs": [],
   "source": []
  }
 ],
 "metadata": {
  "kernelspec": {
   "display_name": "Python 3 (ipykernel)",
   "language": "python",
   "name": "python3"
  },
  "language_info": {
   "codemirror_mode": {
    "name": "ipython",
    "version": 3
   },
   "file_extension": ".py",
   "mimetype": "text/x-python",
   "name": "python",
   "nbconvert_exporter": "python",
   "pygments_lexer": "ipython3",
   "version": "3.9.12"
  }
 },
 "nbformat": 4,
 "nbformat_minor": 5
}
