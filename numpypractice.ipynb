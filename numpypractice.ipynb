{
 "cells": [
  {
   "cell_type": "code",
   "execution_count": 1,
   "id": "5833c540",
   "metadata": {},
   "outputs": [],
   "source": [
    "import numpy as np"
   ]
  },
  {
   "cell_type": "code",
   "execution_count": 2,
   "id": "c1bd1317",
   "metadata": {},
   "outputs": [
    {
     "data": {
      "text/plain": [
       "array([1, 2, 3, 4, 5])"
      ]
     },
     "execution_count": 2,
     "metadata": {},
     "output_type": "execute_result"
    }
   ],
   "source": [
    "arr = np.array([1,2,3,4,5])\n",
    "arr"
   ]
  },
  {
   "cell_type": "code",
   "execution_count": 3,
   "id": "bd0f11c0",
   "metadata": {},
   "outputs": [
    {
     "name": "stdout",
     "output_type": "stream",
     "text": [
      "int32\n"
     ]
    }
   ],
   "source": [
    "print(arr.dtype)"
   ]
  },
  {
   "cell_type": "code",
   "execution_count": 4,
   "id": "e0a83dab",
   "metadata": {},
   "outputs": [
    {
     "data": {
      "text/plain": [
       "array([1, 2, 3, 4, 5], dtype=int16)"
      ]
     },
     "execution_count": 4,
     "metadata": {},
     "output_type": "execute_result"
    }
   ],
   "source": [
    "arr2 = np.array([1,2,3,4,5],dtype=np.int16)\n",
    "arr2"
   ]
  },
  {
   "cell_type": "markdown",
   "id": "a793a47d",
   "metadata": {},
   "source": [
    "**Zero ones arange random.rand linspace"
   ]
  },
  {
   "cell_type": "code",
   "execution_count": 5,
   "id": "e2526407",
   "metadata": {},
   "outputs": [
    {
     "data": {
      "text/plain": [
       "array([0., 0., 0., 0., 0.])"
      ]
     },
     "execution_count": 5,
     "metadata": {},
     "output_type": "execute_result"
    }
   ],
   "source": [
    "Z=np.zeros(5)\n",
    "Z"
   ]
  },
  {
   "cell_type": "code",
   "execution_count": 6,
   "id": "8d82df17",
   "metadata": {},
   "outputs": [
    {
     "data": {
      "text/plain": [
       "array([0, 1, 2, 3, 4, 5, 6, 7, 8, 9])"
      ]
     },
     "execution_count": 6,
     "metadata": {},
     "output_type": "execute_result"
    }
   ],
   "source": [
    "ar=np.arange(0,10,1)\n",
    "ar"
   ]
  },
  {
   "cell_type": "code",
   "execution_count": 7,
   "id": "e1cdc542",
   "metadata": {},
   "outputs": [
    {
     "data": {
      "text/plain": [
       "array([0.95674426, 0.01381393, 0.61869048, 0.00691286])"
      ]
     },
     "execution_count": 7,
     "metadata": {},
     "output_type": "execute_result"
    }
   ],
   "source": [
    "ran=np.random.rand(4)\n",
    "ran\n"
   ]
  },
  {
   "cell_type": "code",
   "execution_count": 8,
   "id": "be23655b",
   "metadata": {},
   "outputs": [
    {
     "data": {
      "text/plain": [
       "array([  0.        ,  11.11111111,  22.22222222,  33.33333333,\n",
       "        44.44444444,  55.55555556,  66.66666667,  77.77777778,\n",
       "        88.88888889, 100.        ])"
      ]
     },
     "execution_count": 8,
     "metadata": {},
     "output_type": "execute_result"
    }
   ],
   "source": [
    "ln=np.linspace(0,100,10)\n",
    "ln\n"
   ]
  },
  {
   "cell_type": "code",
   "execution_count": 9,
   "id": "e3fa5b34",
   "metadata": {},
   "outputs": [
    {
     "data": {
      "text/plain": [
       "array([[1, 2, 3],\n",
       "       [4, 5, 6],\n",
       "       [7, 8, 9]])"
      ]
     },
     "execution_count": 9,
     "metadata": {},
     "output_type": "execute_result"
    }
   ],
   "source": [
    "ar2=np.array([[1,2,3],[4,5,6],[7,8,9]])\n",
    "ar2"
   ]
  },
  {
   "cell_type": "code",
   "execution_count": 10,
   "id": "d1aff9b1",
   "metadata": {},
   "outputs": [
    {
     "data": {
      "text/plain": [
       "array([[0., 0., 0., 0., 0.],\n",
       "       [0., 0., 0., 0., 0.],\n",
       "       [0., 0., 0., 0., 0.],\n",
       "       [0., 0., 0., 0., 0.],\n",
       "       [0., 0., 0., 0., 0.]])"
      ]
     },
     "execution_count": 10,
     "metadata": {},
     "output_type": "execute_result"
    }
   ],
   "source": [
    "z1=np.zeros([5,5])\n",
    "z1"
   ]
  },
  {
   "cell_type": "code",
   "execution_count": 11,
   "id": "118219c7",
   "metadata": {},
   "outputs": [
    {
     "data": {
      "text/plain": [
       "array([[1., 1., 1., 1., 1.],\n",
       "       [1., 1., 1., 1., 1.],\n",
       "       [1., 1., 1., 1., 1.],\n",
       "       [1., 1., 1., 1., 1.],\n",
       "       [1., 1., 1., 1., 1.]])"
      ]
     },
     "execution_count": 11,
     "metadata": {},
     "output_type": "execute_result"
    }
   ],
   "source": [
    "o1=np.ones([5,5])\n",
    "o1"
   ]
  },
  {
   "cell_type": "code",
   "execution_count": 12,
   "id": "ad19ae75",
   "metadata": {},
   "outputs": [
    {
     "data": {
      "text/plain": [
       "array([[1., 0., 0., 0., 0.],\n",
       "       [0., 1., 0., 0., 0.],\n",
       "       [0., 0., 1., 0., 0.],\n",
       "       [0., 0., 0., 1., 0.],\n",
       "       [0., 0., 0., 0., 1.]])"
      ]
     },
     "execution_count": 12,
     "metadata": {},
     "output_type": "execute_result"
    }
   ],
   "source": [
    "I=np.eye(5)\n",
    "I"
   ]
  },
  {
   "cell_type": "code",
   "execution_count": 13,
   "id": "e2d236ec",
   "metadata": {},
   "outputs": [
    {
     "data": {
      "text/plain": [
       "array([[0.85555305, 0.19447731, 0.22607682, 0.43635831, 0.57861008],\n",
       "       [0.79365381, 0.71887054, 0.09036442, 0.4567373 , 0.99687061],\n",
       "       [0.82651684, 0.31849946, 0.67135564, 0.24824824, 0.29938001],\n",
       "       [0.57868862, 0.46256834, 0.75009453, 0.58519901, 0.0691529 ]])"
      ]
     },
     "execution_count": 13,
     "metadata": {},
     "output_type": "execute_result"
    }
   ],
   "source": [
    "r1=np.random.rand(4,5)\n",
    "r1"
   ]
  },
  {
   "cell_type": "code",
   "execution_count": 14,
   "id": "a2906211",
   "metadata": {},
   "outputs": [
    {
     "data": {
      "text/plain": [
       "array([[1, 2, 3],\n",
       "       [4, 5, 6],\n",
       "       [7, 8, 9]])"
      ]
     },
     "execution_count": 14,
     "metadata": {},
     "output_type": "execute_result"
    }
   ],
   "source": [
    "ar\n",
    "ar2"
   ]
  },
  {
   "cell_type": "code",
   "execution_count": 15,
   "id": "95a1f4d7",
   "metadata": {},
   "outputs": [
    {
     "data": {
      "text/plain": [
       "array([0, 1, 2, 3, 4, 5, 6, 7, 8, 9])"
      ]
     },
     "execution_count": 15,
     "metadata": {},
     "output_type": "execute_result"
    }
   ],
   "source": [
    "ar"
   ]
  },
  {
   "cell_type": "code",
   "execution_count": 16,
   "id": "27f811f9",
   "metadata": {},
   "outputs": [
    {
     "data": {
      "text/plain": [
       "array([[1, 2, 3],\n",
       "       [4, 5, 6],\n",
       "       [7, 8, 9]])"
      ]
     },
     "execution_count": 16,
     "metadata": {},
     "output_type": "execute_result"
    }
   ],
   "source": [
    "ar2"
   ]
  },
  {
   "cell_type": "code",
   "execution_count": 17,
   "id": "e925b816",
   "metadata": {},
   "outputs": [
    {
     "name": "stdout",
     "output_type": "stream",
     "text": [
      "10\n"
     ]
    }
   ],
   "source": [
    "print(ar.size)"
   ]
  },
  {
   "cell_type": "code",
   "execution_count": 18,
   "id": "2ed6c7eb",
   "metadata": {},
   "outputs": [
    {
     "name": "stdout",
     "output_type": "stream",
     "text": [
      "9\n"
     ]
    }
   ],
   "source": [
    "print(ar2.size)"
   ]
  },
  {
   "cell_type": "code",
   "execution_count": 19,
   "id": "6c52cbbd",
   "metadata": {},
   "outputs": [
    {
     "name": "stdout",
     "output_type": "stream",
     "text": [
      "(10,)\n"
     ]
    }
   ],
   "source": [
    "print(ar.shape)"
   ]
  },
  {
   "cell_type": "markdown",
   "id": "833f07ac",
   "metadata": {},
   "source": [
    "**Operations in Array\n",
    "Copy\n",
    "Sort\n",
    "Reshape"
   ]
  },
  {
   "cell_type": "code",
   "execution_count": 20,
   "id": "02288ef3",
   "metadata": {},
   "outputs": [
    {
     "data": {
      "text/plain": [
       "array([[1, 2, 3],\n",
       "       [4, 5, 6],\n",
       "       [7, 8, 9]])"
      ]
     },
     "execution_count": 20,
     "metadata": {},
     "output_type": "execute_result"
    }
   ],
   "source": [
    "ar3=np.copy(ar2)\n",
    "ar3"
   ]
  },
  {
   "cell_type": "code",
   "execution_count": 21,
   "id": "69d91036",
   "metadata": {},
   "outputs": [
    {
     "data": {
      "text/plain": [
       "array([[ 1, 15,  3],\n",
       "       [ 4,  5, 12],\n",
       "       [ 7,  8,  9]])"
      ]
     },
     "execution_count": 21,
     "metadata": {},
     "output_type": "execute_result"
    }
   ],
   "source": [
    "ar3[1,2]=12\n",
    "ar3[0,1]=15\n",
    "ar3"
   ]
  },
  {
   "cell_type": "code",
   "execution_count": 22,
   "id": "91cb16de",
   "metadata": {},
   "outputs": [
    {
     "data": {
      "text/plain": [
       "array([[ 1,  3, 15],\n",
       "       [ 4,  5, 12],\n",
       "       [ 7,  8,  9]])"
      ]
     },
     "execution_count": 22,
     "metadata": {},
     "output_type": "execute_result"
    }
   ],
   "source": [
    "ar3=np.sort(ar3)\n",
    "ar3"
   ]
  },
  {
   "cell_type": "code",
   "execution_count": 23,
   "id": "2d264b5f",
   "metadata": {},
   "outputs": [
    {
     "data": {
      "text/plain": [
       "64"
      ]
     },
     "execution_count": 23,
     "metadata": {},
     "output_type": "execute_result"
    }
   ],
   "source": [
    "ar3.sum()"
   ]
  },
  {
   "cell_type": "code",
   "execution_count": 24,
   "id": "83bd7e71",
   "metadata": {},
   "outputs": [
    {
     "data": {
      "text/plain": [
       "array([12, 16, 36])"
      ]
     },
     "execution_count": 24,
     "metadata": {},
     "output_type": "execute_result"
    }
   ],
   "source": [
    "ar3.sum(axis=0)"
   ]
  },
  {
   "cell_type": "code",
   "execution_count": 25,
   "id": "af9c0a9a",
   "metadata": {},
   "outputs": [
    {
     "data": {
      "text/plain": [
       "array([0.63616123, 0.95400131, 0.15920392, 0.36337535, 0.83940224,\n",
       "       0.8281249 , 0.59077329, 0.86857736, 0.2743712 , 0.25314867,\n",
       "       0.55970299, 0.42611381, 0.48412176, 0.51400368, 0.80154949,\n",
       "       0.31432764, 0.11968132, 0.9501315 , 0.59829699, 0.27849779,\n",
       "       0.61717479, 0.20989132, 0.58311137, 0.64338021, 0.50683797,\n",
       "       0.68920955, 0.87775963, 0.07864126, 0.09897208, 0.24169293,\n",
       "       0.01741263, 0.41230484, 0.42909468, 0.62298335, 0.79916845,\n",
       "       0.90373792, 0.2648025 , 0.59712596, 0.05970648, 0.13267791,\n",
       "       0.45029531, 0.08409991, 0.99731244, 0.43566161, 0.64825767,\n",
       "       0.39501889, 0.28166814, 0.88914692, 0.97647778, 0.16885456,\n",
       "       0.08158381, 0.54876745, 0.50869432, 0.08792985, 0.57410783,\n",
       "       0.87977143, 0.81102817, 0.07694593, 0.1481299 , 0.22022789,\n",
       "       0.1444036 , 0.56512614, 0.08476309, 0.25879495, 0.77213617,\n",
       "       0.72986305, 0.32818394, 0.97648427, 0.09327976, 0.1253681 ,\n",
       "       0.90867892, 0.25012304, 0.90320099, 0.35718002, 0.18730113,\n",
       "       0.61153993, 0.52342557, 0.81043046, 0.28792932, 0.33925781,\n",
       "       0.64576852, 0.76979517, 0.31923271, 0.67070456, 0.49787061,\n",
       "       0.44328108, 0.16225864, 0.95270455, 0.1376591 , 0.03042086,\n",
       "       0.96333864, 0.177421  , 0.56438701, 0.31029951, 0.12006893,\n",
       "       0.71723842, 0.15402417, 0.44239317, 0.3363467 ])"
      ]
     },
     "execution_count": 25,
     "metadata": {},
     "output_type": "execute_result"
    }
   ],
   "source": [
    "ar4=np.random.rand(99)\n",
    "ar4"
   ]
  },
  {
   "cell_type": "code",
   "execution_count": 26,
   "id": "3c690036",
   "metadata": {},
   "outputs": [
    {
     "data": {
      "text/plain": [
       "99"
      ]
     },
     "execution_count": 26,
     "metadata": {},
     "output_type": "execute_result"
    }
   ],
   "source": [
    "ar4.size"
   ]
  },
  {
   "cell_type": "code",
   "execution_count": 28,
   "id": "8010092d",
   "metadata": {},
   "outputs": [
    {
     "data": {
      "text/plain": [
       "99"
      ]
     },
     "execution_count": 28,
     "metadata": {},
     "output_type": "execute_result"
    }
   ],
   "source": [
    "ar4=ar4.reshape(11,9)\n",
    "ar4.size"
   ]
  },
  {
   "cell_type": "code",
   "execution_count": 29,
   "id": "fe4ee526",
   "metadata": {},
   "outputs": [
    {
     "data": {
      "text/plain": [
       "(11, 9)"
      ]
     },
     "execution_count": 29,
     "metadata": {},
     "output_type": "execute_result"
    }
   ],
   "source": [
    "ar4.shape"
   ]
  },
  {
   "cell_type": "code",
   "execution_count": 31,
   "id": "6d19b816",
   "metadata": {},
   "outputs": [
    {
     "data": {
      "text/plain": [
       "array([[0.63616123, 0.95400131, 0.15920392, 0.36337535, 0.83940224,\n",
       "        0.8281249 , 0.59077329, 0.86857736, 0.2743712 ],\n",
       "       [0.25314867, 0.55970299, 0.42611381, 0.48412176, 0.51400368,\n",
       "        0.80154949, 0.31432764, 0.11968132, 0.9501315 ],\n",
       "       [0.59829699, 0.27849779, 0.61717479, 0.20989132, 0.58311137,\n",
       "        0.64338021, 0.50683797, 0.68920955, 0.87775963],\n",
       "       [0.07864126, 0.09897208, 0.24169293, 0.01741263, 0.41230484,\n",
       "        0.42909468, 0.62298335, 0.79916845, 0.90373792],\n",
       "       [0.2648025 , 0.59712596, 0.05970648, 0.13267791, 0.45029531,\n",
       "        0.08409991, 0.99731244, 0.43566161, 0.64825767],\n",
       "       [0.39501889, 0.28166814, 0.88914692, 0.97647778, 0.16885456,\n",
       "        0.08158381, 0.54876745, 0.50869432, 0.08792985],\n",
       "       [0.57410783, 0.87977143, 0.81102817, 0.07694593, 0.1481299 ,\n",
       "        0.22022789, 0.1444036 , 0.56512614, 0.08476309],\n",
       "       [0.25879495, 0.77213617, 0.72986305, 0.32818394, 0.97648427,\n",
       "        0.09327976, 0.1253681 , 0.90867892, 0.25012304],\n",
       "       [0.90320099, 0.35718002, 0.18730113, 0.61153993, 0.52342557,\n",
       "        0.81043046, 0.28792932, 0.33925781, 0.64576852],\n",
       "       [0.76979517, 0.31923271, 0.67070456, 0.49787061, 0.44328108,\n",
       "        0.16225864, 0.95270455, 0.1376591 , 0.03042086],\n",
       "       [0.96333864, 0.177421  , 0.56438701, 0.31029951, 0.12006893,\n",
       "        0.71723842, 0.15402417, 0.44239317, 0.3363467 ]])"
      ]
     },
     "execution_count": 31,
     "metadata": {},
     "output_type": "execute_result"
    }
   ],
   "source": [
    "ar4=ar4\n",
    "ar4"
   ]
  },
  {
   "cell_type": "code",
   "execution_count": 32,
   "id": "e6d6f4f9",
   "metadata": {},
   "outputs": [
    {
     "data": {
      "text/plain": [
       "(11, 9)"
      ]
     },
     "execution_count": 32,
     "metadata": {},
     "output_type": "execute_result"
    }
   ],
   "source": [
    "ar4.shape"
   ]
  },
  {
   "cell_type": "code",
   "execution_count": 33,
   "id": "ef359d09",
   "metadata": {},
   "outputs": [
    {
     "data": {
      "text/plain": [
       "array([[ 1,  3, 15],\n",
       "       [ 4,  5, 12],\n",
       "       [ 7,  8,  9]])"
      ]
     },
     "execution_count": 33,
     "metadata": {},
     "output_type": "execute_result"
    }
   ],
   "source": [
    "ar3"
   ]
  },
  {
   "cell_type": "code",
   "execution_count": 34,
   "id": "263e59ad",
   "metadata": {},
   "outputs": [
    {
     "data": {
      "text/plain": [
       "array([[ 1,  4,  7],\n",
       "       [ 3,  5,  8],\n",
       "       [15, 12,  9]])"
      ]
     },
     "execution_count": 34,
     "metadata": {},
     "output_type": "execute_result"
    }
   ],
   "source": [
    "ar3=ar3.T\n",
    "ar3"
   ]
  },
  {
   "cell_type": "code",
   "execution_count": 35,
   "id": "04251932",
   "metadata": {},
   "outputs": [
    {
     "data": {
      "text/plain": [
       "array([0, 1, 2, 3, 4, 5, 6, 7, 8, 9])"
      ]
     },
     "execution_count": 35,
     "metadata": {},
     "output_type": "execute_result"
    }
   ],
   "source": [
    "ar"
   ]
  },
  {
   "cell_type": "code",
   "execution_count": 36,
   "id": "df3da39b",
   "metadata": {},
   "outputs": [
    {
     "data": {
      "text/plain": [
       "array([ 0,  1,  2,  3,  4,  5,  6,  7,  8,  9, 10])"
      ]
     },
     "execution_count": 36,
     "metadata": {},
     "output_type": "execute_result"
    }
   ],
   "source": [
    "np.append(ar,10)"
   ]
  },
  {
   "cell_type": "code",
   "execution_count": 37,
   "id": "62c450b0",
   "metadata": {},
   "outputs": [],
   "source": [
    "ar=np.append(ar,10)"
   ]
  },
  {
   "cell_type": "code",
   "execution_count": 38,
   "id": "4501a007",
   "metadata": {},
   "outputs": [
    {
     "data": {
      "text/plain": [
       "array([ 0,  1,  2,  3,  4,  5,  6,  7,  8,  9, 10])"
      ]
     },
     "execution_count": 38,
     "metadata": {},
     "output_type": "execute_result"
    }
   ],
   "source": [
    "ar"
   ]
  },
  {
   "cell_type": "code",
   "execution_count": 39,
   "id": "15fd64f8",
   "metadata": {},
   "outputs": [
    {
     "data": {
      "text/plain": [
       "array([ 0,  1,  2,  3,  4,  5,  7,  8,  9, 10])"
      ]
     },
     "execution_count": 39,
     "metadata": {},
     "output_type": "execute_result"
    }
   ],
   "source": [
    "ar=np.delete(ar,6,axis=0)\n",
    "ar"
   ]
  },
  {
   "cell_type": "code",
   "execution_count": 40,
   "id": "c55620fa",
   "metadata": {},
   "outputs": [
    {
     "data": {
      "text/plain": [
       "array([ 0,  1,  2,  3,  4,  5,  6,  7,  8,  9, 10])"
      ]
     },
     "execution_count": 40,
     "metadata": {},
     "output_type": "execute_result"
    }
   ],
   "source": [
    "ar=np.insert(ar,6,6)\n",
    "ar"
   ]
  },
  {
   "cell_type": "code",
   "execution_count": 41,
   "id": "c8464757",
   "metadata": {},
   "outputs": [
    {
     "data": {
      "text/plain": [
       "array([[1, 2, 3],\n",
       "       [4, 5, 6],\n",
       "       [7, 8, 9]])"
      ]
     },
     "execution_count": 41,
     "metadata": {},
     "output_type": "execute_result"
    }
   ],
   "source": [
    "ar2"
   ]
  },
  {
   "cell_type": "code",
   "execution_count": 42,
   "id": "349ca70d",
   "metadata": {},
   "outputs": [
    {
     "data": {
      "text/plain": [
       "array([[ 1,  4,  7],\n",
       "       [ 3,  5,  8],\n",
       "       [15, 12,  9]])"
      ]
     },
     "execution_count": 42,
     "metadata": {},
     "output_type": "execute_result"
    }
   ],
   "source": [
    "ar3"
   ]
  },
  {
   "cell_type": "code",
   "execution_count": 43,
   "id": "ad3adec1",
   "metadata": {},
   "outputs": [
    {
     "data": {
      "text/plain": [
       "array([[ 1,  2,  3],\n",
       "       [ 4,  5,  6],\n",
       "       [ 7,  8,  9],\n",
       "       [ 1,  4,  7],\n",
       "       [ 3,  5,  8],\n",
       "       [15, 12,  9]])"
      ]
     },
     "execution_count": 43,
     "metadata": {},
     "output_type": "execute_result"
    }
   ],
   "source": [
    "ar4=np.concatenate((ar2,ar3),axis=0)\n",
    "ar4"
   ]
  },
  {
   "cell_type": "code",
   "execution_count": 44,
   "id": "4f8da02c",
   "metadata": {},
   "outputs": [
    {
     "data": {
      "text/plain": [
       "array([[ 1,  2,  3,  1,  4,  7],\n",
       "       [ 4,  5,  6,  3,  5,  8],\n",
       "       [ 7,  8,  9, 15, 12,  9]])"
      ]
     },
     "execution_count": 44,
     "metadata": {},
     "output_type": "execute_result"
    }
   ],
   "source": [
    "ar5=np.concatenate((ar2,ar3),axis=1)\n",
    "ar5"
   ]
  },
  {
   "cell_type": "code",
   "execution_count": 45,
   "id": "b9eee341",
   "metadata": {},
   "outputs": [
    {
     "data": {
      "text/plain": [
       "[array([[1, 2, 3],\n",
       "        [4, 5, 6]]),\n",
       " array([[7, 8, 9],\n",
       "        [1, 4, 7]]),\n",
       " array([[ 3,  5,  8],\n",
       "        [15, 12,  9]])]"
      ]
     },
     "execution_count": 45,
     "metadata": {},
     "output_type": "execute_result"
    }
   ],
   "source": [
    "np.split(ar4,3)"
   ]
  },
  {
   "cell_type": "code",
   "execution_count": 46,
   "id": "8a626e7a",
   "metadata": {},
   "outputs": [
    {
     "data": {
      "text/plain": [
       "[array([[1, 2, 3],\n",
       "        [4, 5, 6]]),\n",
       " array([[7, 8, 9],\n",
       "        [1, 4, 7]]),\n",
       " array([[ 3,  5,  8],\n",
       "        [15, 12,  9]])]"
      ]
     },
     "execution_count": 46,
     "metadata": {},
     "output_type": "execute_result"
    }
   ],
   "source": [
    "ar6=np.split(ar4,3)\n",
    "ar6"
   ]
  },
  {
   "cell_type": "code",
   "execution_count": 47,
   "id": "0d778531",
   "metadata": {},
   "outputs": [
    {
     "data": {
      "text/plain": [
       "array([[1, 2, 3],\n",
       "       [4, 5, 6]])"
      ]
     },
     "execution_count": 47,
     "metadata": {},
     "output_type": "execute_result"
    }
   ],
   "source": [
    "ar6[0]"
   ]
  },
  {
   "cell_type": "code",
   "execution_count": 48,
   "id": "d1229271",
   "metadata": {},
   "outputs": [
    {
     "data": {
      "text/plain": [
       "array([[7, 8, 9],\n",
       "       [1, 4, 7]])"
      ]
     },
     "execution_count": 48,
     "metadata": {},
     "output_type": "execute_result"
    }
   ],
   "source": [
    "ar6[1]"
   ]
  },
  {
   "cell_type": "code",
   "execution_count": 49,
   "id": "8d70724c",
   "metadata": {},
   "outputs": [
    {
     "data": {
      "text/plain": [
       "array([[ 3,  5,  8],\n",
       "       [15, 12,  9]])"
      ]
     },
     "execution_count": 49,
     "metadata": {},
     "output_type": "execute_result"
    }
   ],
   "source": [
    "ar6[2]"
   ]
  },
  {
   "cell_type": "code",
   "execution_count": 50,
   "id": "15c5904f",
   "metadata": {},
   "outputs": [
    {
     "data": {
      "text/plain": [
       "1"
      ]
     },
     "execution_count": 50,
     "metadata": {},
     "output_type": "execute_result"
    }
   ],
   "source": [
    "ar6[0][0][0]"
   ]
  },
  {
   "cell_type": "markdown",
   "id": "ebbb467d",
   "metadata": {},
   "source": [
    "Scalar Expressions\n",
    "add\n",
    "\n",
    "subtract\n",
    "\n",
    "multiply\n",
    "\n",
    "divide\n",
    "\n",
    "power"
   ]
  },
  {
   "cell_type": "code",
   "execution_count": 51,
   "id": "1b135d8e",
   "metadata": {},
   "outputs": [
    {
     "data": {
      "text/plain": [
       "array([[ 1,  2,  3,  1,  4,  7],\n",
       "       [ 4,  5,  6,  3,  5,  8],\n",
       "       [ 7,  8,  9, 15, 12,  9]])"
      ]
     },
     "execution_count": 51,
     "metadata": {},
     "output_type": "execute_result"
    }
   ],
   "source": [
    "ar5"
   ]
  },
  {
   "cell_type": "markdown",
   "id": "0f0376de",
   "metadata": {},
   "source": [
    "Vector Operations"
   ]
  },
  {
   "cell_type": "code",
   "execution_count": 52,
   "id": "04989580",
   "metadata": {},
   "outputs": [
    {
     "data": {
      "text/plain": [
       "[array([[1, 2, 3],\n",
       "        [4, 5, 6]]),\n",
       " array([[7, 8, 9],\n",
       "        [1, 4, 7]]),\n",
       " array([[ 3,  5,  8],\n",
       "        [15, 12,  9]])]"
      ]
     },
     "execution_count": 52,
     "metadata": {},
     "output_type": "execute_result"
    }
   ],
   "source": [
    "ar6"
   ]
  },
  {
   "cell_type": "code",
   "execution_count": 53,
   "id": "7604b375",
   "metadata": {},
   "outputs": [
    {
     "data": {
      "text/plain": [
       "array([[ 8, 10, 12],\n",
       "       [ 5,  9, 13]])"
      ]
     },
     "execution_count": 53,
     "metadata": {},
     "output_type": "execute_result"
    }
   ],
   "source": [
    "ar7 = np.add(ar6[0],ar6[1])\n",
    "ar7"
   ]
  },
  {
   "cell_type": "code",
   "execution_count": 54,
   "id": "19c6f153",
   "metadata": {},
   "outputs": [
    {
     "data": {
      "text/plain": [
       "array([[ 7, 16, 27],\n",
       "       [ 4, 20, 42]])"
      ]
     },
     "execution_count": 54,
     "metadata": {},
     "output_type": "execute_result"
    }
   ],
   "source": [
    "ar8 = np.multiply(ar6[0],ar6[1])\n",
    "ar8"
   ]
  },
  {
   "cell_type": "code",
   "execution_count": 55,
   "id": "467ae482",
   "metadata": {},
   "outputs": [
    {
     "data": {
      "text/plain": [
       "array([[0.14285714, 0.25      , 0.33333333],\n",
       "       [4.        , 1.25      , 0.85714286]])"
      ]
     },
     "execution_count": 55,
     "metadata": {},
     "output_type": "execute_result"
    }
   ],
   "source": [
    "ar9 = np.divide(ar6[0],ar6[1])\n",
    "ar9"
   ]
  },
  {
   "cell_type": "code",
   "execution_count": 56,
   "id": "32e2af85",
   "metadata": {},
   "outputs": [
    {
     "data": {
      "text/plain": [
       "array([[1., 1., 1.],\n",
       "       [4., 2., 1.]])"
      ]
     },
     "execution_count": 56,
     "metadata": {},
     "output_type": "execute_result"
    }
   ],
   "source": [
    "np.ceil(ar9)"
   ]
  },
  {
   "cell_type": "code",
   "execution_count": 57,
   "id": "050fb809",
   "metadata": {},
   "outputs": [
    {
     "data": {
      "text/plain": [
       "array([[0., 0., 0.],\n",
       "       [4., 1., 0.]])"
      ]
     },
     "execution_count": 57,
     "metadata": {},
     "output_type": "execute_result"
    }
   ],
   "source": [
    "np.floor(ar9)"
   ]
  },
  {
   "cell_type": "code",
   "execution_count": 58,
   "id": "b4cbb9a7",
   "metadata": {},
   "outputs": [
    {
     "data": {
      "text/plain": [
       "array([[0., 0., 0.],\n",
       "       [4., 1., 1.]])"
      ]
     },
     "execution_count": 58,
     "metadata": {},
     "output_type": "execute_result"
    }
   ],
   "source": [
    "np.round(ar9)"
   ]
  },
  {
   "cell_type": "markdown",
   "id": "4aea9214",
   "metadata": {},
   "source": [
    "Statistics"
   ]
  },
  {
   "cell_type": "code",
   "execution_count": 60,
   "id": "0d63798f",
   "metadata": {},
   "outputs": [
    {
     "data": {
      "text/plain": [
       "6.055555555555555"
      ]
     },
     "execution_count": 60,
     "metadata": {},
     "output_type": "execute_result"
    }
   ],
   "source": [
    "np.mean(ar5)"
   ]
  },
  {
   "cell_type": "code",
   "execution_count": 61,
   "id": "5707a555",
   "metadata": {},
   "outputs": [
    {
     "data": {
      "text/plain": [
       "array([ 3.        ,  5.16666667, 10.        ])"
      ]
     },
     "execution_count": 61,
     "metadata": {},
     "output_type": "execute_result"
    }
   ],
   "source": [
    "np.mean(ar5,axis=1)"
   ]
  },
  {
   "cell_type": "code",
   "execution_count": 62,
   "id": "b4cbc5a8",
   "metadata": {},
   "outputs": [
    {
     "data": {
      "text/plain": [
       "5.5"
      ]
     },
     "execution_count": 62,
     "metadata": {},
     "output_type": "execute_result"
    }
   ],
   "source": [
    "np.median(ar5)"
   ]
  },
  {
   "cell_type": "code",
   "execution_count": 63,
   "id": "0c4f8869",
   "metadata": {},
   "outputs": [
    {
     "data": {
      "text/plain": [
       "array([2.5, 5. , 9. ])"
      ]
     },
     "execution_count": 63,
     "metadata": {},
     "output_type": "execute_result"
    }
   ],
   "source": [
    "np.median(ar5,axis=1)"
   ]
  },
  {
   "cell_type": "code",
   "execution_count": 64,
   "id": "53bec021",
   "metadata": {},
   "outputs": [
    {
     "data": {
      "text/plain": [
       "1"
      ]
     },
     "execution_count": 64,
     "metadata": {},
     "output_type": "execute_result"
    }
   ],
   "source": [
    "np.min(ar5)"
   ]
  },
  {
   "cell_type": "code",
   "execution_count": 65,
   "id": "e599e780",
   "metadata": {},
   "outputs": [
    {
     "data": {
      "text/plain": [
       "array([1, 2, 3, 1, 4, 7])"
      ]
     },
     "execution_count": 65,
     "metadata": {},
     "output_type": "execute_result"
    }
   ],
   "source": [
    "np.min(ar5,axis=0)"
   ]
  },
  {
   "cell_type": "code",
   "execution_count": 66,
   "id": "964277ff",
   "metadata": {},
   "outputs": [
    {
     "data": {
      "text/plain": [
       "array([ 7,  8,  9, 15, 12,  9])"
      ]
     },
     "execution_count": 66,
     "metadata": {},
     "output_type": "execute_result"
    }
   ],
   "source": [
    "np.max(ar5,axis=0)"
   ]
  },
  {
   "cell_type": "code",
   "execution_count": 67,
   "id": "8bf3ac45",
   "metadata": {},
   "outputs": [
    {
     "data": {
      "text/plain": [
       "array([[ 1,  2,  3,  1,  4,  7],\n",
       "       [ 4,  5,  6,  3,  5,  8],\n",
       "       [ 7,  8,  9, 15, 12,  9]])"
      ]
     },
     "execution_count": 67,
     "metadata": {},
     "output_type": "execute_result"
    }
   ],
   "source": [
    "np.max(ar5,axis=0)\n",
    "ar5\n"
   ]
  },
  {
   "cell_type": "code",
   "execution_count": 69,
   "id": "91cebd93",
   "metadata": {},
   "outputs": [
    {
     "data": {
      "text/plain": [
       "array([2, 5, 3, 8, 0, 4, 1, 6, 9])"
      ]
     },
     "execution_count": 69,
     "metadata": {},
     "output_type": "execute_result"
    }
   ],
   "source": [
    "ar10=np.array([2,5,3,8,0,4,1,6,9])\n",
    "\n",
    "ar10"
   ]
  },
  {
   "cell_type": "code",
   "execution_count": 70,
   "id": "2841156d",
   "metadata": {},
   "outputs": [
    {
     "data": {
      "text/plain": [
       "8"
      ]
     },
     "execution_count": 70,
     "metadata": {},
     "output_type": "execute_result"
    }
   ],
   "source": [
    "np.argmax(ar10)"
   ]
  },
  {
   "cell_type": "code",
   "execution_count": 71,
   "id": "346e879f",
   "metadata": {},
   "outputs": [
    {
     "data": {
      "text/plain": [
       "4"
      ]
     },
     "execution_count": 71,
     "metadata": {},
     "output_type": "execute_result"
    }
   ],
   "source": [
    "np.argmin(ar10)"
   ]
  },
  {
   "cell_type": "code",
   "execution_count": 72,
   "id": "0b31d109",
   "metadata": {},
   "outputs": [
    {
     "data": {
      "text/plain": [
       "array([4, 6, 0, 2, 5, 1, 7, 3, 8], dtype=int64)"
      ]
     },
     "execution_count": 72,
     "metadata": {},
     "output_type": "execute_result"
    }
   ],
   "source": [
    "np.argsort(ar10)"
   ]
  },
  {
   "cell_type": "code",
   "execution_count": 73,
   "id": "ea9f80f7",
   "metadata": {},
   "outputs": [
    {
     "data": {
      "text/plain": [
       "array([ 0.90929743, -0.95892427,  0.14112001,  0.98935825,  0.        ,\n",
       "       -0.7568025 ,  0.84147098, -0.2794155 ,  0.41211849])"
      ]
     },
     "execution_count": 73,
     "metadata": {},
     "output_type": "execute_result"
    }
   ],
   "source": [
    "np.sin(ar10)"
   ]
  },
  {
   "cell_type": "code",
   "execution_count": null,
   "id": "acfe015b",
   "metadata": {},
   "outputs": [],
   "source": []
  }
 ],
 "metadata": {
  "kernelspec": {
   "display_name": "Python 3 (ipykernel)",
   "language": "python",
   "name": "python3"
  },
  "language_info": {
   "codemirror_mode": {
    "name": "ipython",
    "version": 3
   },
   "file_extension": ".py",
   "mimetype": "text/x-python",
   "name": "python",
   "nbconvert_exporter": "python",
   "pygments_lexer": "ipython3",
   "version": "3.9.12"
  }
 },
 "nbformat": 4,
 "nbformat_minor": 5
}
